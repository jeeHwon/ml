{
 "metadata": {
  "language_info": {
   "codemirror_mode": {
    "name": "ipython",
    "version": 3
   },
   "file_extension": ".py",
   "mimetype": "text/x-python",
   "name": "python",
   "nbconvert_exporter": "python",
   "pygments_lexer": "ipython3",
   "version": "3.6.12-final"
  },
  "orig_nbformat": 2,
  "kernelspec": {
   "name": "python3",
   "display_name": "Python 3",
   "language": "python"
  }
 },
 "nbformat": 4,
 "nbformat_minor": 2,
 "cells": [
  {
   "source": [
    "# Mov_TreeDecision"
   ],
   "cell_type": "markdown",
   "metadata": {}
  },
  {
   "cell_type": "code",
   "execution_count": 79,
   "metadata": {},
   "outputs": [],
   "source": [
    "# import pandas as pd\n",
    "# df = pd.DataFrame({\n",
    "#     'title':['괴물',\n",
    "#          '태극기휘날리며',\n",
    "#          '광해',\n",
    "#          '베테랑',\n",
    "#          '왕의남자',\n",
    "#          '기생충',\n",
    "#          '극한직업',\n",
    "#          '부산행',\n",
    "#          '김종욱찾기',\n",
    "#          '달콤한인생',\n",
    "#          '내머리속의지우개',\n",
    "#          '올드보이',\n",
    "#          '타짜',\n",
    "#          '김씨표류기',\n",
    "#          '오아시스',\n",
    "#          '지금은맞고그때는틀리다',\n",
    "#          '빈집'],\n",
    "#     'year': [2006,\n",
    "#         2004,\n",
    "#         2012,\n",
    "#         2015,\n",
    "#         2005,\n",
    "#         2019,\n",
    "#         2018,\n",
    "#         2016,\n",
    "#         2010,\n",
    "#         2005,\n",
    "#         2004,\n",
    "#         2003,\n",
    "#         2006,\n",
    "#         2008,\n",
    "#         2002,\n",
    "#         2015,\n",
    "#         2004],\n",
    "#     'action': ['액션O',\n",
    "#           '액션O',\n",
    "#           '액션X',\n",
    "#           '액션O',\n",
    "#           '액션X',\n",
    "#           '액션X',\n",
    "#           '액션O',\n",
    "#           '액션O',\n",
    "#           '액션X',\n",
    "#           '액션O',\n",
    "#           '액션X',\n",
    "#           '액션O',\n",
    "#           '액션X',\n",
    "#           '액션X',\n",
    "#           '액션X',\n",
    "#           '액션X',\n",
    "#           '액션X'],\n",
    "#     'time': [119,\n",
    "#         148,\n",
    "#         131,\n",
    "#         123,\n",
    "#         119,\n",
    "#         131,\n",
    "#         111,\n",
    "#         118,\n",
    "#         112,\n",
    "#         120,\n",
    "#         117,\n",
    "#         120,\n",
    "#         139,\n",
    "#         116,\n",
    "#         132,\n",
    "#         120,\n",
    "#         88],\n",
    "#      'age':['12세',\n",
    "#        '15세',\n",
    "#        '15세',\n",
    "#        '15세',\n",
    "#        '15세',\n",
    "#        '15세',\n",
    "#        '15세',\n",
    "#        '15세',\n",
    "#        '12세',\n",
    "#        '18세',\n",
    "#        '12세',\n",
    "#        '18세',\n",
    "#        '18세',\n",
    "#        '12세',\n",
    "#        '18세',\n",
    "#        '18세',\n",
    "#        '15세'],\n",
    "#     'gun':['총나옴',\n",
    "#        '총나옴',\n",
    "#        '총안나옴',\n",
    "#        '총나옴',\n",
    "#        '총안나옴',\n",
    "#        '총안나옴',\n",
    "#        '총나옴',\n",
    "#        '총나옴',\n",
    "#        '총안나옴',\n",
    "#        '총나옴',\n",
    "#        '총안나옴',\n",
    "#        '총나옴',\n",
    "#        '총나옴',\n",
    "#        '총안나옴',\n",
    "#        '총안나옴',\n",
    "#        '총안나옴',\n",
    "#        '총안나옴'],\n",
    "#     'cost':[110,\n",
    "#         170,\n",
    "#         65,\n",
    "#         90,\n",
    "#         44,\n",
    "#         150,\n",
    "#         85,\n",
    "#         115,\n",
    "#         45,\n",
    "#         65,\n",
    "#         30,\n",
    "#         33,\n",
    "#         53,\n",
    "#         50,\n",
    "#         28,\n",
    "#         1,\n",
    "#         10],\n",
    "#     'TenThousand':['천만관객',\n",
    "#                '천만관객',\n",
    "#                '천만관객',\n",
    "#                '천만관객',\n",
    "#                '천만관객',\n",
    "#                '천만관객',\n",
    "#                '천만관객',\n",
    "#                '천만관객',\n",
    "#                'no천만',\n",
    "#                'no천만',\n",
    "#                'no천만',\n",
    "#                'no천만',\n",
    "#                'no천만',\n",
    "#                'no천만',\n",
    "#                'no천만',\n",
    "#                'no천만',\n",
    "#                'no천만']\n",
    "        \n",
    "#         },\n",
    "#     columns=['title','year','action','time','age','gun','cost','TenThousand'] # 컬럼 순서 지정 가능\n",
    "# )\n",
    "# print(df)"
   ]
  },
  {
   "cell_type": "code",
   "execution_count": 131,
   "metadata": {},
   "outputs": [
    {
     "output_type": "stream",
     "name": "stdout",
     "text": [
      "          title  year  action  time  age  gun  cost TenThousand\n0            괴물  2006       1   119    0    1   110    TT_right\n1       태극기휘날리며  2004       1   148    1    1   170    TT_right\n2            광해  2012       0   131    1    0    65    TT_right\n3           베테랑  2015       1   123    1    1    90    TT_right\n4          왕의남자  2005       0   119    1    0    44    TT_right\n5           기생충  2019       0   131    1    0   150    TT_right\n6          극한직업  2018       1   111    1    1    85    TT_right\n7           부산행  2016       1   118    1    1   115    TT_right\n8         김종욱찾기  2010       0   112    0    0    45    TT_wrong\n9         달콤한인생  2005       1   120    2    1    65    TT_wrong\n10     내머리속의지우개  2004       0   117    0    0    30    TT_wrong\n11         올드보이  2003       1   120    2    1    33    TT_wrong\n12           타짜  2006       0   139    2    1    53    TT_wrong\n13        김씨표류기  2008       0   116    0    0    50    TT_wrong\n14         오아시스  2002       0   132    2    0    28    TT_wrong\n15  지금은맞고그때는틀리다  2015       0   120    2    0     1    TT_wrong\n16           빈집  2004       0    88    1    0    10    TT_wrong\n"
     ]
    }
   ],
   "source": [
    "import pandas as pd\n",
    "df = pd.DataFrame({\n",
    "    'title':['괴물',\n",
    "         '태극기휘날리며',\n",
    "         '광해',\n",
    "         '베테랑',\n",
    "         '왕의남자',\n",
    "         '기생충',\n",
    "         '극한직업',\n",
    "         '부산행',\n",
    "         '김종욱찾기',\n",
    "         '달콤한인생',\n",
    "         '내머리속의지우개',\n",
    "         '올드보이',\n",
    "         '타짜',\n",
    "         '김씨표류기',\n",
    "         '오아시스',\n",
    "         '지금은맞고그때는틀리다',\n",
    "         '빈집'],\n",
    "    'year': [2006,\n",
    "        2004,\n",
    "        2012,\n",
    "        2015,\n",
    "        2005,\n",
    "        2019,\n",
    "        2018,\n",
    "        2016,\n",
    "        2010,\n",
    "        2005,\n",
    "        2004,\n",
    "        2003,\n",
    "        2006,\n",
    "        2008,\n",
    "        2002,\n",
    "        2015,\n",
    "        2004],\n",
    "    'action': [1,\n",
    "          1,\n",
    "          0,\n",
    "          1,\n",
    "          0,\n",
    "          0,\n",
    "          1,\n",
    "          1,\n",
    "          0,\n",
    "          1,\n",
    "          0,\n",
    "          1,\n",
    "          0,\n",
    "          0,\n",
    "          0,\n",
    "          0,\n",
    "          0],\n",
    "    'time': [119,\n",
    "        148,\n",
    "        131,\n",
    "        123,\n",
    "        119,\n",
    "        131,\n",
    "        111,\n",
    "        118,\n",
    "        112,\n",
    "        120,\n",
    "        117,\n",
    "        120,\n",
    "        139,\n",
    "        116,\n",
    "        132,\n",
    "        120,\n",
    "        88],\n",
    "     'age':[0,\n",
    "       1,\n",
    "       1,\n",
    "       1,\n",
    "       1,\n",
    "       1,\n",
    "       1,\n",
    "       1,\n",
    "       0,\n",
    "       2,\n",
    "       0,\n",
    "       2,\n",
    "       2,\n",
    "       0,\n",
    "       2,\n",
    "       2,\n",
    "       1],\n",
    "    'gun':[1,\n",
    "       1,\n",
    "       0,\n",
    "       1,\n",
    "       0,\n",
    "       0,\n",
    "       1,\n",
    "       1,\n",
    "       0,\n",
    "       1,\n",
    "       0,\n",
    "       1,\n",
    "       1,\n",
    "       0,\n",
    "       0,\n",
    "       0,\n",
    "       0],\n",
    "    'cost':[110,\n",
    "        170,\n",
    "        65,\n",
    "        90,\n",
    "        44,\n",
    "        150,\n",
    "        85,\n",
    "        115,\n",
    "        45,\n",
    "        65,\n",
    "        30,\n",
    "        33,\n",
    "        53,\n",
    "        50,\n",
    "        28,\n",
    "        1,\n",
    "        10],\n",
    "    'TenThousand':['TT_right',\n",
    "               'TT_right',\n",
    "               'TT_right',\n",
    "               'TT_right',\n",
    "               'TT_right',\n",
    "               'TT_right',\n",
    "               'TT_right',\n",
    "               'TT_right',\n",
    "               'TT_wrong',\n",
    "               'TT_wrong',\n",
    "               'TT_wrong',\n",
    "               'TT_wrong',\n",
    "               'TT_wrong',\n",
    "               'TT_wrong',\n",
    "               'TT_wrong',\n",
    "               'TT_wrong',\n",
    "               'TT_wrong']\n",
    "        \n",
    "        },\n",
    "    columns=['title','year','action','time','age','gun','cost','TenThousand'] # 컬럼 순서 지정 가능\n",
    ")\n",
    "print(df)"
   ]
  },
  {
   "cell_type": "code",
   "execution_count": 132,
   "metadata": {},
   "outputs": [
    {
     "output_type": "stream",
     "name": "stdout",
     "text": [
      "<class 'pandas.core.frame.DataFrame'>\nRangeIndex: 17 entries, 0 to 16\nData columns (total 8 columns):\ntitle          17 non-null object\nyear           17 non-null int64\naction         17 non-null int64\ntime           17 non-null int64\nage            17 non-null int64\ngun            17 non-null int64\ncost           17 non-null int64\nTenThousand    17 non-null object\ndtypes: int64(6), object(2)\nmemory usage: 1.1+ KB\n"
     ]
    },
    {
     "output_type": "execute_result",
     "data": {
      "text/plain": [
       "     title  year  action  time  age  gun  cost TenThousand\n",
       "0       괴물  2006       1   119    0    1   110    TT_right\n",
       "1  태극기휘날리며  2004       1   148    1    1   170    TT_right\n",
       "2       광해  2012       0   131    1    0    65    TT_right\n",
       "3      베테랑  2015       1   123    1    1    90    TT_right\n",
       "4     왕의남자  2005       0   119    1    0    44    TT_right"
      ],
      "text/html": "<div>\n<style scoped>\n    .dataframe tbody tr th:only-of-type {\n        vertical-align: middle;\n    }\n\n    .dataframe tbody tr th {\n        vertical-align: top;\n    }\n\n    .dataframe thead th {\n        text-align: right;\n    }\n</style>\n<table border=\"1\" class=\"dataframe\">\n  <thead>\n    <tr style=\"text-align: right;\">\n      <th></th>\n      <th>title</th>\n      <th>year</th>\n      <th>action</th>\n      <th>time</th>\n      <th>age</th>\n      <th>gun</th>\n      <th>cost</th>\n      <th>TenThousand</th>\n    </tr>\n  </thead>\n  <tbody>\n    <tr>\n      <th>0</th>\n      <td>괴물</td>\n      <td>2006</td>\n      <td>1</td>\n      <td>119</td>\n      <td>0</td>\n      <td>1</td>\n      <td>110</td>\n      <td>TT_right</td>\n    </tr>\n    <tr>\n      <th>1</th>\n      <td>태극기휘날리며</td>\n      <td>2004</td>\n      <td>1</td>\n      <td>148</td>\n      <td>1</td>\n      <td>1</td>\n      <td>170</td>\n      <td>TT_right</td>\n    </tr>\n    <tr>\n      <th>2</th>\n      <td>광해</td>\n      <td>2012</td>\n      <td>0</td>\n      <td>131</td>\n      <td>1</td>\n      <td>0</td>\n      <td>65</td>\n      <td>TT_right</td>\n    </tr>\n    <tr>\n      <th>3</th>\n      <td>베테랑</td>\n      <td>2015</td>\n      <td>1</td>\n      <td>123</td>\n      <td>1</td>\n      <td>1</td>\n      <td>90</td>\n      <td>TT_right</td>\n    </tr>\n    <tr>\n      <th>4</th>\n      <td>왕의남자</td>\n      <td>2005</td>\n      <td>0</td>\n      <td>119</td>\n      <td>1</td>\n      <td>0</td>\n      <td>44</td>\n      <td>TT_right</td>\n    </tr>\n  </tbody>\n</table>\n</div>"
     },
     "metadata": {},
     "execution_count": 132
    }
   ],
   "source": [
    "df.info()\n",
    "df.head()"
   ]
  },
  {
   "cell_type": "code",
   "execution_count": 133,
   "metadata": {},
   "outputs": [
    {
     "output_type": "execute_result",
     "data": {
      "text/plain": [
       "0     TT_right\n",
       "1     TT_right\n",
       "2     TT_right\n",
       "3     TT_right\n",
       "4     TT_right\n",
       "5     TT_right\n",
       "6     TT_right\n",
       "7     TT_right\n",
       "8     TT_wrong\n",
       "9     TT_wrong\n",
       "10    TT_wrong\n",
       "11    TT_wrong\n",
       "12    TT_wrong\n",
       "13    TT_wrong\n",
       "14    TT_wrong\n",
       "15    TT_wrong\n",
       "16    TT_wrong\n",
       "Name: TenThousand, dtype: object"
      ]
     },
     "metadata": {},
     "execution_count": 133
    }
   ],
   "source": [
    "x = df.iloc[:,1:7]\n",
    "y = df.iloc[:,7]\n",
    "y"
   ]
  },
  {
   "cell_type": "code",
   "execution_count": 134,
   "metadata": {},
   "outputs": [
    {
     "output_type": "stream",
     "name": "stdout",
     "text": [
      "<class 'pandas.core.frame.DataFrame'>\nRangeIndex: 17 entries, 0 to 16\nData columns (total 6 columns):\nyear      17 non-null int64\naction    17 non-null int64\ntime      17 non-null int64\nage       17 non-null int64\ngun       17 non-null int64\ncost      17 non-null int64\ndtypes: int64(6)\nmemory usage: 896.0 bytes\n"
     ]
    }
   ],
   "source": [
    "x.info()"
   ]
  },
  {
   "cell_type": "code",
   "execution_count": 135,
   "metadata": {},
   "outputs": [
    {
     "output_type": "execute_result",
     "data": {
      "text/plain": [
       "Counter({'TT_right': 8, 'TT_wrong': 9})"
      ]
     },
     "metadata": {},
     "execution_count": 135
    }
   ],
   "source": [
    "from sklearn.model_selection import train_test_split\n",
    "# x_train,x_test,y_train,y_test  = train_test_split(x,y,test_size=0.20)\n",
    "x_train = x\n",
    "x_test = x\n",
    "y_train = y\n",
    "y_test = y\n",
    "from collections import Counter\n",
    "Counter(y_train)\n",
    "Counter(y_test)"
   ]
  },
  {
   "cell_type": "code",
   "execution_count": 136,
   "metadata": {},
   "outputs": [
    {
     "output_type": "execute_result",
     "data": {
      "text/plain": [
       "DecisionTreeClassifier(class_weight=None, criterion='entropy', max_depth=2,\n",
       "            max_features=None, max_leaf_nodes=None,\n",
       "            min_impurity_decrease=0.0, min_impurity_split=None,\n",
       "            min_samples_leaf=1, min_samples_split=2,\n",
       "            min_weight_fraction_leaf=0.0, presort=False, random_state=None,\n",
       "            splitter='best')"
      ]
     },
     "metadata": {},
     "execution_count": 136
    }
   ],
   "source": [
    "from sklearn.tree import DecisionTreeClassifier\n",
    "\n",
    "model = DecisionTreeClassifier(criterion = \"entropy\", max_depth=2)\n",
    "model"
   ]
  },
  {
   "cell_type": "code",
   "execution_count": 137,
   "metadata": {},
   "outputs": [
    {
     "output_type": "execute_result",
     "data": {
      "text/plain": [
       "DecisionTreeClassifier(class_weight=None, criterion='entropy', max_depth=2,\n",
       "            max_features=None, max_leaf_nodes=None,\n",
       "            min_impurity_decrease=0.0, min_impurity_split=None,\n",
       "            min_samples_leaf=1, min_samples_split=2,\n",
       "            min_weight_fraction_leaf=0.0, presort=False, random_state=None,\n",
       "            splitter='best')"
      ]
     },
     "metadata": {},
     "execution_count": 137
    }
   ],
   "source": [
    "model.fit(x_train,y_train)"
   ]
  },
  {
   "cell_type": "code",
   "execution_count": 138,
   "metadata": {},
   "outputs": [
    {
     "output_type": "execute_result",
     "data": {
      "text/plain": [
       "array(['TT_right', 'TT_right', 'TT_wrong', 'TT_right', 'TT_wrong',\n",
       "       'TT_right', 'TT_right', 'TT_right', 'TT_wrong', 'TT_wrong',\n",
       "       'TT_wrong', 'TT_wrong', 'TT_wrong', 'TT_wrong', 'TT_wrong',\n",
       "       'TT_wrong', 'TT_wrong'], dtype=object)"
      ]
     },
     "metadata": {},
     "execution_count": 138
    }
   ],
   "source": [
    "y_pred = model.predict(x_test)\n",
    "y_pred"
   ]
  },
  {
   "cell_type": "code",
   "execution_count": 139,
   "metadata": {},
   "outputs": [
    {
     "output_type": "execute_result",
     "data": {
      "text/plain": [
       "0.8823529411764706"
      ]
     },
     "metadata": {},
     "execution_count": 139
    }
   ],
   "source": [
    "from sklearn.metrics import accuracy_score\n",
    "\n",
    "accuracy_score(y_test, y_pred)"
   ]
  },
  {
   "cell_type": "code",
   "execution_count": 140,
   "metadata": {},
   "outputs": [
    {
     "output_type": "execute_result",
     "data": {
      "text/plain": [
       "  feature  importance\n",
       "0    year         0.0\n",
       "1  action         0.0\n",
       "2    time         0.0\n",
       "3     age         0.0\n",
       "4     gun         0.0\n",
       "5    cost         1.0"
      ],
      "text/html": "<div>\n<style scoped>\n    .dataframe tbody tr th:only-of-type {\n        vertical-align: middle;\n    }\n\n    .dataframe tbody tr th {\n        vertical-align: top;\n    }\n\n    .dataframe thead th {\n        text-align: right;\n    }\n</style>\n<table border=\"1\" class=\"dataframe\">\n  <thead>\n    <tr style=\"text-align: right;\">\n      <th></th>\n      <th>feature</th>\n      <th>importance</th>\n    </tr>\n  </thead>\n  <tbody>\n    <tr>\n      <th>0</th>\n      <td>year</td>\n      <td>0.0</td>\n    </tr>\n    <tr>\n      <th>1</th>\n      <td>action</td>\n      <td>0.0</td>\n    </tr>\n    <tr>\n      <th>2</th>\n      <td>time</td>\n      <td>0.0</td>\n    </tr>\n    <tr>\n      <th>3</th>\n      <td>age</td>\n      <td>0.0</td>\n    </tr>\n    <tr>\n      <th>4</th>\n      <td>gun</td>\n      <td>0.0</td>\n    </tr>\n    <tr>\n      <th>5</th>\n      <td>cost</td>\n      <td>1.0</td>\n    </tr>\n  </tbody>\n</table>\n</div>"
     },
     "metadata": {},
     "execution_count": 140
    }
   ],
   "source": [
    "model.feature_importances_\n",
    "\n",
    "pd.DataFrame({'feature' : x_train.columns,\n",
    "\n",
    "              'importance' : model.feature_importances_})"
   ]
  },
  {
   "cell_type": "code",
   "execution_count": 141,
   "metadata": {},
   "outputs": [
    {
     "output_type": "execute_result",
     "data": {
      "text/plain": [
       "array(['TT_right', 'TT_wrong'], dtype=object)"
      ]
     },
     "metadata": {},
     "execution_count": 141
    }
   ],
   "source": [
    "model.classes_"
   ]
  },
  {
   "cell_type": "code",
   "execution_count": 142,
   "metadata": {},
   "outputs": [],
   "source": [
    "import pydotplus\n",
    "\n",
    "from sklearn.tree import export_graphviz\n",
    "\n",
    "from IPython.core.display import Image"
   ]
  },
  {
   "cell_type": "code",
   "execution_count": 143,
   "metadata": {},
   "outputs": [],
   "source": [
    "dot_data = export_graphviz(model, out_file=None,\n",
    "\n",
    "                           feature_names=x_train.columns,\n",
    "\n",
    "                           class_names=model.classes_,\n",
    "\n",
    "                           filled=True, rounded=True,\n",
    "\n",
    "                           special_characters=True)"
   ]
  },
  {
   "cell_type": "code",
   "execution_count": 144,
   "metadata": {},
   "outputs": [
    {
     "output_type": "execute_result",
     "data": {
      "image/png": "[encoded data removed]",
      "text/plain": [
       "<IPython.core.display.Image object>"
      ]
     },
     "metadata": {},
     "execution_count": 144
    }
   ],
   "source": [
    "import os\n",
    "os.environ[\"PATH\"] += os.pathsep + 'C:/Program Files/Graphviz/bin'\n",
    "\n",
    "\n",
    "dot_data\n",
    "\n",
    "graph = pydotplus.graph_from_dot_data(dot_data)\n",
    "\n",
    "Image(graph.create_png())"
   ]
  }
 ]
}